{
 "cells": [
  {
   "cell_type": "markdown",
   "id": "8255a61c",
   "metadata": {},
   "source": [
    "# Factory Demo"
   ]
  },
  {
   "cell_type": "code",
   "execution_count": null,
   "id": "bf398d93",
   "metadata": {},
   "outputs": [
    {
     "name": "stdout",
     "output_type": "stream",
     "text": [
      "stock\n",
      "AAPL\n",
      "--\n",
      "TSLA\n"
     ]
    }
   ],
   "source": [
    "from patterns.Factory_InstrumentTypes import InstrumentFactory\n",
    "\n",
    "instruments = InstrumentFactory.load_from_csv('inputs/instruments.csv')\n",
    "\n",
    "print(instruments[0].instrument_type)\n",
    "print(instruments[0].symbol)\n",
    "\n",
    "custom_data = {\n",
    "    'symbol': 'TSLA',\n",
    "    'type': 'stock',\n",
    "    'price': '250.00',\n",
    "    'sector': 'Automotive',\n",
    "    'issuer': 'Tesla Inc.'\n",
    "}\n",
    "\n",
    "custom_stock = InstrumentFactory.create_instrument(custom_data)\n",
    "\n",
    "print(\"--\")\n",
    "\n",
    "print(custom_stock.symbol)\n"
   ]
  },
  {
   "cell_type": "markdown",
   "id": "9d51d437",
   "metadata": {},
   "source": [
    "# Singleton"
   ]
  },
  {
   "cell_type": "code",
   "execution_count": null,
   "id": "ace34aba",
   "metadata": {},
   "outputs": [],
   "source": []
  }
 ],
 "metadata": {
  "kernelspec": {
   "display_name": ".venv",
   "language": "python",
   "name": "python3"
  },
  "language_info": {
   "codemirror_mode": {
    "name": "ipython",
    "version": 3
   },
   "file_extension": ".py",
   "mimetype": "text/x-python",
   "name": "python",
   "nbconvert_exporter": "python",
   "pygments_lexer": "ipython3",
   "version": "3.13.7"
  }
 },
 "nbformat": 4,
 "nbformat_minor": 5
}
