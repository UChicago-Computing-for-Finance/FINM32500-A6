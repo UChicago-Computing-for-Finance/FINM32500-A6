{
 "cells": [
  {
   "cell_type": "markdown",
   "id": "8255a61c",
   "metadata": {},
   "source": [
    "# Factory Demo"
   ]
  },
  {
   "cell_type": "code",
   "execution_count": null,
   "id": "bf398d93",
   "metadata": {},
   "outputs": [],
   "source": [
    "from patterns.Factory_InstrumentTypes import InstrumentFactory\n",
    "\n",
    "instruments = InstrumentFactory.load_from_csv('inputs/instruments.csv')\n",
    "\n",
    "print(instruments[0].instrument_type)\n",
    "print(instruments[0].symbol)\n",
    "\n",
    "custom_data = {\n",
    "    'symbol': 'TSLA',\n",
    "    'type': 'stock',\n",
    "    'price': '250.00',\n",
    "    'sector': 'Automotive',\n",
    "    'issuer': 'Tesla Inc.'\n",
    "}\n",
    "\n",
    "custom_stock = InstrumentFactory.create_instrument(custom_data)\n",
    "\n",
    "print(\"--\")\n",
    "\n",
    "print(custom_stock.symbol)\n"
   ]
  },
  {
   "cell_type": "markdown",
   "id": "9d51d437",
   "metadata": {},
   "source": [
    "# Singleton"
   ]
  },
  {
   "cell_type": "code",
   "execution_count": null,
   "id": "ace34aba",
   "metadata": {},
   "outputs": [],
   "source": [
    "from patterns.Singleton_ConfigAccess import Config\n",
    "\n",
    "config = Config()\n",
    "\n",
    "# Access\n",
    "# print(config.config)\n",
    "\n",
    "print(config.config.get('log_level'))\n",
    "# print(config.config.get('data_path'))\n",
    "# print(config.config.get('report_path'))\n",
    "\n",
    "# Check:\n",
    "s1 = Config()\n",
    "s2 = Config()\n",
    "\n",
    "print(s1 is s2)  # Output: True (both variables point to the same instance)"
   ]
  },
  {
   "cell_type": "markdown",
   "id": "1abac456",
   "metadata": {},
   "source": [
    "# Builder"
   ]
  },
  {
   "cell_type": "code",
   "execution_count": 8,
   "id": "f87faff2",
   "metadata": {},
   "outputs": [
    {
     "name": "stdout",
     "output_type": "stream",
     "text": [
      "Main Portfolio\n",
      "sdonadio\n",
      "[{'symbol': 'AAPL', 'quantity': 100, 'price': 172.35}, {'symbol': 'MSFT', 'quantity': 50, 'price': 328.1}]\n",
      "--\n",
      "[{'name': 'Index Holdings', 'subportfolio': <patterns.Builder_PortfolioBuilder.Portfolio object at 0x109595010>}]\n",
      "[{'symbol': 'SPY', 'quantity': 20, 'price': 430.5}]\n"
     ]
    }
   ],
   "source": [
    "from patterns.Builder_PortfolioBuilder import PortfolioBuilder, Director\n",
    "\n",
    "director = Director()\n",
    "\n",
    "# from portfolio_structure.json\n",
    "portfolio = director.build_portfolio()\n",
    "\n",
    "\n",
    "print(portfolio.name)\n",
    "print(portfolio.owner)\n",
    "print(portfolio.positions)\n",
    "# subport access\n",
    "print(\"--\")\n",
    "print(portfolio.subportfolios)\n",
    "print(portfolio.subportfolios[0]['subportfolio'].positions)\n",
    "# print(portfolio.subportfolios[0].positions)\n",
    "\n"
   ]
  },
  {
   "cell_type": "markdown",
   "id": "37a62a61",
   "metadata": {},
   "source": []
  },
  {
   "cell_type": "code",
   "execution_count": null,
   "id": "16d8084b",
   "metadata": {},
   "outputs": [],
   "source": [
    "print(1)"
   ]
  },
  {
   "cell_type": "code",
   "execution_count": null,
   "id": "4a65cbaf",
   "metadata": {},
   "outputs": [],
   "source": []
  }
 ],
 "metadata": {
  "kernelspec": {
   "display_name": ".venv",
   "language": "python",
   "name": "python3"
  },
  "language_info": {
   "codemirror_mode": {
    "name": "ipython",
    "version": 3
   },
   "file_extension": ".py",
   "mimetype": "text/x-python",
   "name": "python",
   "nbconvert_exporter": "python",
   "pygments_lexer": "ipython3",
   "version": "3.13.7"
  }
 },
 "nbformat": 4,
 "nbformat_minor": 5
}
